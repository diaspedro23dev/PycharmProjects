{
 "cells": [
  {
   "cell_type": "code",
   "execution_count": 2,
   "metadata": {},
   "outputs": [],
   "source": [
    "import sys, re\n",
    "from datetime import date\n",
    "from pathlib import Path\n",
    "from pprint import pprint"
   ]
  },
  {
   "cell_type": "code",
   "execution_count": 4,
   "metadata": {},
   "outputs": [
    {
     "name": "stdout",
     "output_type": "stream",
     "text": [
      "/home/diaspedro/Downloads\n"
     ]
    }
   ],
   "source": [
    "# Identificacao do tipo de SO para decidir qual será a base do caminho de arquivos e identificar se existe a pasta Downloads\n",
    "\n",
    "def check_Downloads():\n",
    "    \n",
    "    my_SO = sys.platform\n",
    "    dirDownloads = str(Path(\".\").absolute())\n",
    "    \n",
    "    if my_SO == \"linux\":\n",
    "        unity = dirDownloads.split(\"/\")\n",
    "        dirDownloads = Path(f\"{unity[0]}/{unity[1]}/{unity[2]}/Downloads\")\n",
    "        if dirDownloads.is_dir():\n",
    "            return dirDownloads\n",
    "    elif my_SO == \"Windows\":\n",
    "        unity = dirDownloads.split(\"\\\\\")\n",
    "        dirDownloads = Path(f\"{unity[0]}\\\\{unity[1]}\\\\{unity[2]}\\\\Downloads\")\n",
    "        if dirDownloads.is_dir():\n",
    "            return dirDownloads\n",
    "    else:\n",
    "        return str(f\"Nao sei usar o sistema {my_SO} AINDA.\\nCaminho: {dirDownloads}\")\n",
    "\n",
    "teste = check_Downloads()\n",
    "print(teste)"
   ]
  },
  {
   "cell_type": "code",
   "execution_count": 5,
   "metadata": {},
   "outputs": [
    {
     "name": "stdout",
     "output_type": "stream",
     "text": [
      "['/home/diaspedro/Downloads/favoritos_16_04_2020.html', '/home/diaspedro/Downloads/favoritos_21_03_2022.html', '/home/diaspedro/Downloads/favoritos_31_07_1995.html', '/home/diaspedro/Downloads/favoritos_24_05_2022.html', '/home/diaspedro/Downloads/favoritos_22_04_2021.html', '/home/diaspedro/Downloads/favoritos_27_04_2019.html', '/home/diaspedro/Downloads/favoritos_27_04_2022.html', '/home/diaspedro/Downloads/favoritos_30_05_2022.html', '/home/diaspedro/Downloads/favoritos_07_03_2022.html']\n",
      "9 itens\n"
     ]
    }
   ],
   "source": [
    "# Extracao e filtragem dos arquivos da pasta Downloads de favoritos do Chrome\n",
    "def filter_html():\n",
    "    arquivos = list(Path(check_Downloads()).glob(\"favoritos*.html\"))\n",
    "    regex = r\".+(\\w{9}_\\d{2}_\\d{2}_\\d{4})\"\n",
    "    htmls = [str(arquivo) for arquivo in arquivos]\n",
    "    return list(filter(lambda html: html if re.match(regex, html) else '', htmls))\n",
    "\n",
    "teste = filter_html()\n",
    "print(teste)\n",
    "print(len(teste), \"itens\")"
   ]
  },
  {
   "cell_type": "code",
   "execution_count": 7,
   "metadata": {},
   "outputs": [
    {
     "name": "stdout",
     "output_type": "stream",
     "text": [
      "/home/diaspedro/Downloads/favoritos_30_05_2022.html <class 'pathlib.PosixPath'>\n"
     ]
    }
   ],
   "source": [
    "#Filtragem da lista para procurar o arquivo mais recente\n",
    "def most_recente():\n",
    "    filtrados = filter_html()\n",
    "    conjunto = {}\n",
    "    \n",
    "    for filtro in filtrados:\n",
    "        nome = filtro.split('/')[-1]\n",
    "        data = nome[10:-5].split('_')\n",
    "        dia, mes, ano = int(data[-3]), int(data[-2]), int(data[-1])\n",
    "        conjunto.update({date(year=ano, month=mes, day=dia): filtro})\n",
    "    return Path(conjunto[max(conjunto)])\n",
    "\n",
    "teste = most_recente()\n",
    "print(teste)"
   ]
  },
  {
   "cell_type": "code",
   "execution_count": null,
   "metadata": {},
   "outputs": [],
   "source": []
  }
 ],
 "metadata": {
  "interpreter": {
   "hash": "916dbcbb3f70747c44a77c7bcd40155683ae19c65e1c03b4aa3499c5328201f1"
  },
  "kernelspec": {
   "display_name": "Python 3.8.10 64-bit",
   "language": "python",
   "name": "python3"
  },
  "language_info": {
   "codemirror_mode": {
    "name": "ipython",
    "version": 3
   },
   "file_extension": ".py",
   "mimetype": "text/x-python",
   "name": "python",
   "nbconvert_exporter": "python",
   "pygments_lexer": "ipython3",
   "version": "3.8.10"
  },
  "orig_nbformat": 4
 },
 "nbformat": 4,
 "nbformat_minor": 2
}
