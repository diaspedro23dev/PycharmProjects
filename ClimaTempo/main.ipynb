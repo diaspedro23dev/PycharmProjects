{
 "cells": [
  {
   "cell_type": "code",
   "execution_count": 19,
   "metadata": {},
   "outputs": [],
   "source": [
    "import sys\n",
    "import re\n",
    "from datetime import date\n",
    "from pathlib import Path\n",
    "from pprint import pprint"
   ]
  },
  {
   "cell_type": "code",
   "execution_count": 20,
   "metadata": {},
   "outputs": [
    {
     "name": "stdout",
     "output_type": "stream",
     "text": [
      "/home/diaspedro/Downloads\n"
     ]
    }
   ],
   "source": [
    "# Identificacao do tipo de SO para decidir qual será a base do caminho de arquivos e identificar se existe a pasta Downloads\n",
    "\n",
    "def finder_files():\n",
    "    caminho = Path(Path.home(), \"Downloads\")\n",
    "    if caminho.is_dir():\n",
    "        return caminho\n",
    "    else:\n",
    "        return str(f\"Caminho nao encontrado: {caminho}!\")\n",
    "\n",
    "teste = finder_files()\n",
    "print(teste)"
   ]
  },
  {
   "cell_type": "code",
   "execution_count": 21,
   "metadata": {},
   "outputs": [
    {
     "name": "stdout",
     "output_type": "stream",
     "text": [
      "['/home/diaspedro/Downloads/favoritos_16_04_2020.html', '/home/diaspedro/Downloads/favoritos_21_03_2022.html', '/home/diaspedro/Downloads/favoritos_31_07_1995.html', '/home/diaspedro/Downloads/favoritos_24_05_2022.html', '/home/diaspedro/Downloads/favoritos_12_07_2022.html', '/home/diaspedro/Downloads/favoritos_22_04_2021.html', '/home/diaspedro/Downloads/favoritos_27_04_2019.html', '/home/diaspedro/Downloads/favoritos_27_04_2022.html', '/home/diaspedro/Downloads/favoritos_30_05_2022.html', '/home/diaspedro/Downloads/favoritos_07_03_2022.html']\n",
      "10 itens\n"
     ]
    }
   ],
   "source": [
    "# Extracao e filtragem dos arquivos da pasta Downloads de favoritos do Chrome\n",
    "\n",
    "def filter_files(regex = r\".+(\\w{9}_\\d{2}_\\d{2}_\\d{4})\"):\n",
    "    arquivos = list(Path(finder_files()).glob(\"favoritos*.html\"))\n",
    "    htmls = [str(arquivo) for arquivo in arquivos]\n",
    "    return list(filter(lambda html: html if re.match(regex, html) else '', htmls))\n",
    "\n",
    "teste = filter_files()\n",
    "print(teste)\n",
    "print(len(teste), \"itens\")"
   ]
  },
  {
   "cell_type": "code",
   "execution_count": 9,
   "metadata": {},
   "outputs": [
    {
     "name": "stdout",
     "output_type": "stream",
     "text": [
      "/home/diaspedro/Downloads/favoritos_12_07_2022.html\n"
     ]
    }
   ],
   "source": [
    "#Filtragem da lista para procurar o arquivo mais recente\n",
    "\n",
    "def most_recent_file():\n",
    "    filtrados = filter_files()\n",
    "    conjunto = {}\n",
    "    \n",
    "    for filtro in filtrados:\n",
    "        nome = filtro.split('/')[-1]\n",
    "        data = nome[10:-5].split('_')\n",
    "        dia, mes, ano = int(data[-3]), int(data[-2]), int(data[-1])\n",
    "        conjunto.update({date(year=ano, month=mes, day=dia): filtro})\n",
    "    return Path(conjunto[max(conjunto)])\n",
    "\n",
    "teste = most_recent_file()\n",
    "print(teste)"
   ]
  },
  {
   "cell_type": "code",
   "execution_count": null,
   "metadata": {},
   "outputs": [],
   "source": []
  }
 ],
 "metadata": {
  "interpreter": {
   "hash": "916dbcbb3f70747c44a77c7bcd40155683ae19c65e1c03b4aa3499c5328201f1"
  },
  "kernelspec": {
   "display_name": "Python 3.8.10 64-bit",
   "language": "python",
   "name": "python3"
  },
  "language_info": {
   "codemirror_mode": {
    "name": "ipython",
    "version": 3
   },
   "file_extension": ".py",
   "mimetype": "text/x-python",
   "name": "python",
   "nbconvert_exporter": "python",
   "pygments_lexer": "ipython3",
   "version": "3.8.10"
  },
  "orig_nbformat": 4
 },
 "nbformat": 4,
 "nbformat_minor": 2
}
